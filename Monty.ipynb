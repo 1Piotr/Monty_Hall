{
 "cells": [
  {
   "cell_type": "code",
   "execution_count": 1,
   "metadata": {
    "collapsed": true
   },
   "outputs": [],
   "source": [
    "import random"
   ]
  },
  {
   "cell_type": "code",
   "execution_count": 4,
   "metadata": {
    "collapsed": true
   },
   "outputs": [],
   "source": [
    "\n",
    "def monty_hall(n):\n",
    "    \"\"\"\n",
    "        This function uses Monte Carlo Simulation to \n",
    "        solve the Monty Hall problem. It shows a chances\n",
    "        of winning of the Let's Make a Deal depending on whether the\n",
    "        contestant switches the door or sticks tohe original\n",
    "        choice.\n",
    "        \n",
    "    Args:\n",
    "        Integer(n), number of times the door is picked\n",
    "        \n",
    "    Prints:\n",
    "        The probability for of winning for the n-times simulation.\n",
    "        Both for switching and non-switching the door.\n",
    "    \"\"\"\n",
    "    winnings_without_switch =0\n",
    "    winnings_with_switch = 0\n",
    "    for i in range(n):\n",
    "        doors= random.sample([0,1,0], 3)\n",
    "        goats =[]\n",
    "        door_number = [0,1,2]\n",
    "        for i in door_number:\n",
    "            if doors[i] == 0:\n",
    "                goats.append(i)\n",
    "       \n",
    "        # player is picking a door\n",
    "        door_chosen =random.randint(0,2)\n",
    "        if door_chosen in goats:\n",
    "            goats.remove(door_chosen)\n",
    "        # host is revealing a door with goat\n",
    "        door_revealed = random.choice(goats)\n",
    "        # player changes the original door\n",
    "        door_number.remove(door_revealed)\n",
    "        door_number.remove(door_chosen)\n",
    "        winnings_with_switch += doors[door_number[0]]\n",
    "        winnings_without_switch += doors[door_chosen]\n",
    "        # player stick to the original choice\n",
    "        \n",
    "    winnings_without_switch =winnings_without_switch/n\n",
    "    winnings_with_switch =winnings_with_switch/n\n",
    "    print('If you switch the door your probability of winning is {}'.format(winnings_with_switch))\n",
    "    print('If you do not switch the door your probability of winning is {}'.format(winnings_without_switch))"
   ]
  },
  {
   "cell_type": "code",
   "execution_count": 5,
   "metadata": {},
   "outputs": [
    {
     "name": "stdout",
     "output_type": "stream",
     "text": [
      "If you switch the door your probability of winning is 0.66739\n",
      "If you do not switch the door your probability of winning is 0.33261\n"
     ]
    }
   ],
   "source": [
    "monty_hall(100000)"
   ]
  },
  {
   "cell_type": "code",
   "execution_count": null,
   "metadata": {},
   "outputs": [],
   "source": []
  },
  {
   "cell_type": "code",
   "execution_count": null,
   "metadata": {
    "collapsed": true
   },
   "outputs": [],
   "source": []
  },
  {
   "cell_type": "code",
   "execution_count": null,
   "metadata": {
    "collapsed": true
   },
   "outputs": [],
   "source": []
  },
  {
   "cell_type": "code",
   "execution_count": null,
   "metadata": {},
   "outputs": [],
   "source": []
  },
  {
   "cell_type": "code",
   "execution_count": null,
   "metadata": {
    "collapsed": true
   },
   "outputs": [],
   "source": []
  },
  {
   "cell_type": "code",
   "execution_count": null,
   "metadata": {
    "collapsed": true
   },
   "outputs": [],
   "source": []
  }
 ],
 "metadata": {
  "kernelspec": {
   "display_name": "Python 3",
   "language": "python",
   "name": "python3"
  },
  "language_info": {
   "codemirror_mode": {
    "name": "ipython",
    "version": 3
   },
   "file_extension": ".py",
   "mimetype": "text/x-python",
   "name": "python",
   "nbconvert_exporter": "python",
   "pygments_lexer": "ipython3",
   "version": "3.6.3"
  }
 },
 "nbformat": 4,
 "nbformat_minor": 2
}
